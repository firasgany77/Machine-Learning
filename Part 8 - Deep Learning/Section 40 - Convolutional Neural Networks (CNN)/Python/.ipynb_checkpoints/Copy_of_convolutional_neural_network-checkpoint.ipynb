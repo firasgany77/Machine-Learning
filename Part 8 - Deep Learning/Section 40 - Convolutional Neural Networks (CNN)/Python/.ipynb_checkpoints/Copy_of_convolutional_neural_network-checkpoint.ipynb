{
 "cells": [
  {
   "cell_type": "markdown",
   "metadata": {
    "colab_type": "text",
    "id": "3DR-eO17geWu"
   },
   "source": [
    "# Convolutional Neural Network"
   ]
  },
  {
   "cell_type": "markdown",
   "metadata": {
    "colab_type": "text",
    "id": "EMefrVPCg-60"
   },
   "source": [
    "### Importing the libraries"
   ]
  },
  {
   "cell_type": "code",
   "execution_count": 13,
   "metadata": {
    "colab": {},
    "colab_type": "code",
    "id": "6DzsMWalBPhY"
   },
   "outputs": [],
   "source": [
    "import tensorflow as tf\n",
    "from keras.preprocessing.image import ImageDataGenerator"
   ]
  },
  {
   "cell_type": "code",
   "execution_count": 14,
   "metadata": {
    "colab": {
     "base_uri": "https://localhost:8080/",
     "height": 35
    },
    "colab_type": "code",
    "id": "930Ilk6UBkuO",
    "outputId": "3842616f-4c06-4ef5-b97f-c2add6b90a77"
   },
   "outputs": [
    {
     "data": {
      "text/plain": [
       "'2.3.0'"
      ]
     },
     "execution_count": 14,
     "metadata": {},
     "output_type": "execute_result"
    }
   ],
   "source": [
    "tf.__version__"
   ]
  },
  {
   "cell_type": "markdown",
   "metadata": {
    "colab_type": "text",
    "id": "oxQxCBWyoGPE"
   },
   "source": [
    "## Part 1 - Data Preprocessing"
   ]
  },
  {
   "cell_type": "markdown",
   "metadata": {
    "colab_type": "text",
    "id": "MvE-heJNo3GG"
   },
   "source": [
    "### Preprocessing the Training set"
   ]
  },
  {
   "cell_type": "code",
   "execution_count": 15,
   "metadata": {
    "colab": {},
    "colab_type": "code",
    "id": "-Ym3l84aB5rh"
   },
   "outputs": [],
   "source": [
    "# we want to apply a transformation only on the images in the training set, in order to avoid overfitting.\n",
    "# the transofrmations are: Zooms, Rotations,"
   ]
  },
  {
   "cell_type": "code",
   "execution_count": 16,
   "metadata": {
    "colab": {},
    "colab_type": "code",
    "id": "pmL_oCfmEY08"
   },
   "outputs": [],
   "source": [
    "train_datagen = ImageDataGenerator(\n",
    "        rescale=1./255,\n",
    "        shear_range=0.2,\n",
    "        zoom_range=0.2,\n",
    "        horizontal_flip=True)"
   ]
  },
  {
   "cell_type": "code",
   "execution_count": 23,
   "metadata": {
    "colab": {
     "base_uri": "https://localhost:8080/",
     "height": 394
    },
    "colab_type": "code",
    "id": "Edj-8xVQGLMD",
    "outputId": "3e074aef-f19d-4e38-f70b-090d8fc0b092"
   },
   "outputs": [
    {
     "name": "stdout",
     "output_type": "stream",
     "text": [
      "Found 8000 images belonging to 2 classes.\n"
     ]
    }
   ],
   "source": [
    "#now we want to resize the images in order to decrease the computations of the machines. \n",
    "# train_datagen is an OBJECT, flow_from_directory is a METHOD from the CLASS ImageDataGenerator.\n",
    "training_set = train_datagen.flow_from_directory(\n",
    "        r'dataset\\training_set',\n",
    "        target_size=(64, 64),\n",
    "        batch_size=32,\n",
    "        class_mode='binary')\n",
    "\n"
   ]
  },
  {
   "cell_type": "markdown",
   "metadata": {
    "colab_type": "text",
    "id": "mrCMmGw9pHys"
   },
   "source": [
    "### Preprocessing the Test set"
   ]
  },
  {
   "cell_type": "code",
   "execution_count": 24,
   "metadata": {
    "colab": {},
    "colab_type": "code",
    "id": "irXqwqHOJXNr"
   },
   "outputs": [
    {
     "name": "stdout",
     "output_type": "stream",
     "text": [
      "Found 2000 images belonging to 2 classes.\n"
     ]
    }
   ],
   "source": [
    "# we don't want to change anything in the test set, to us these are new images.\n",
    "test_datagen = ImageDataGenerator(rescale=1./255)\n",
    "\n",
    "test_set = test_datagen.flow_from_directory(\n",
    "        r'dataset/test_set',\n",
    "        target_size=(64, 64),\n",
    "        batch_size=32,\n",
    "        class_mode='binary')\n"
   ]
  },
  {
   "cell_type": "markdown",
   "metadata": {
    "colab_type": "text",
    "id": "af8O4l90gk7B"
   },
   "source": [
    "## Part 2 - Building the CNN"
   ]
  },
  {
   "cell_type": "markdown",
   "metadata": {
    "colab_type": "text",
    "id": "ces1gXY2lmoX"
   },
   "source": [
    "### Initialising the CNN"
   ]
  },
  {
   "cell_type": "code",
   "execution_count": 25,
   "metadata": {
    "colab": {},
    "colab_type": "code",
    "id": "4JW8-AjBMD5Z"
   },
   "outputs": [],
   "source": [
    "\n",
    "# we want to create an ANN as a sequence of layers.\n",
    "cnn = tf.keras.models.Sequential()"
   ]
  },
  {
   "cell_type": "markdown",
   "metadata": {
    "colab_type": "text",
    "id": "u5YJj_XMl5LF"
   },
   "source": [
    "### Step 1 - Convolution"
   ]
  },
  {
   "cell_type": "code",
   "execution_count": 27,
   "metadata": {
    "colab": {},
    "colab_type": "code",
    "id": "0zgIGDw_NG2S"
   },
   "outputs": [],
   "source": [
    "cnn.add(tf.keras.layers.Conv2D(filters=32, kernel_size=3, activation='relu', input_shape=[64, 64, 3]))\n",
    "#  input_shape=[64, 64, 3]) is added only when we add our first layer."
   ]
  },
  {
   "cell_type": "markdown",
   "metadata": {
    "colab_type": "text",
    "id": "tf87FpvxmNOJ"
   },
   "source": [
    "### Step 2 - Pooling"
   ]
  },
  {
   "cell_type": "code",
   "execution_count": 28,
   "metadata": {
    "colab": {},
    "colab_type": "code",
    "id": "u4YI4svEQwAy"
   },
   "outputs": [],
   "source": [
    "cnn.add(tf.keras.layers.MaxPool2D(pool_size=2, strides=2))"
   ]
  },
  {
   "cell_type": "markdown",
   "metadata": {
    "colab_type": "text",
    "id": "xaTOgD8rm4mU"
   },
   "source": [
    "### Adding a second convolutional layer"
   ]
  },
  {
   "cell_type": "code",
   "execution_count": 29,
   "metadata": {
    "colab": {},
    "colab_type": "code",
    "id": "5S1DZF-a3Bs1"
   },
   "outputs": [],
   "source": [
    "# Question: Wht do we add a second Convolutional Layer?"
   ]
  },
  {
   "cell_type": "code",
   "execution_count": 30,
   "metadata": {
    "colab": {},
    "colab_type": "code",
    "id": "8j2Bh1ah3GL_"
   },
   "outputs": [],
   "source": [
    "# In order to learn hierarchical representations of your input data. For example first layers\n",
    "# will learn edges and second layers will combine these edges in order to form more abstract representations (e.g. circular and/or rectangular shapes). \n",
    "# Fifth layer builds later on top of this and creates even more abstract representations (for example this could be something like dog faces).\n",
    "# There is no consensus on what is the best number of layers. Most of the time people experiment with different depth and choose whatever works the best.\n",
    "# Below is an example how the filters in first, third and fifth layer might look like in some arbitrary chosen Convolutional Neural Net.\n",
    "\n"
   ]
  },
  {
   "cell_type": "code",
   "execution_count": 32,
   "metadata": {
    "colab": {},
    "colab_type": "code",
    "id": "GuWLWRxDnpu0"
   },
   "outputs": [],
   "source": [
    "cnn.add(tf.keras.layers.Conv2D(filters=32, kernel_size=3, activation='relu', input_shape=[64, 64, 3]))\n",
    "cnn.add(tf.keras.layers.MaxPool2D(pool_size=2, strides=2))\n"
   ]
  },
  {
   "cell_type": "markdown",
   "metadata": {
    "colab_type": "text",
    "id": "tmiEuvTunKfk"
   },
   "source": [
    "### Step 3 - Flattening"
   ]
  },
  {
   "cell_type": "code",
   "execution_count": 33,
   "metadata": {
    "colab": {},
    "colab_type": "code",
    "id": "10Jt6I2Mn9mY"
   },
   "outputs": [],
   "source": [
    "cnn.add(tf.keras.layers.Flatten())"
   ]
  },
  {
   "cell_type": "markdown",
   "metadata": {
    "colab_type": "text",
    "id": "dAoSECOm203v"
   },
   "source": [
    "### Step 4 - Full Connection"
   ]
  },
  {
   "cell_type": "code",
   "execution_count": 34,
   "metadata": {
    "colab": {},
    "colab_type": "code",
    "id": "vnZ4akQWqhCq"
   },
   "outputs": [],
   "source": [
    "cnn.add(tf.keras.layers.Dense(units=128, activation='relu')) #relu = rectifier activation func"
   ]
  },
  {
   "cell_type": "markdown",
   "metadata": {
    "colab_type": "text",
    "id": "yTldFvbX28Na"
   },
   "source": [
    "### Step 5 - Output Layer"
   ]
  },
  {
   "cell_type": "code",
   "execution_count": 35,
   "metadata": {
    "colab": {},
    "colab_type": "code",
    "id": "Hqt6t0pP4zK1"
   },
   "outputs": [],
   "source": [
    "cnn.add(tf.keras.layers.Dense(units=1, activation='sigmoid'))\n",
    "# we need only one neuron to encode the binary class 0/1.\n",
    "# for binary classificaiton we use sigmoid.\n",
    "# for multi-class classification we use softmax activation function."
   ]
  },
  {
   "cell_type": "markdown",
   "metadata": {
    "colab_type": "text",
    "id": "D6XkI90snSDl"
   },
   "source": [
    "## Part 3 - Training the CNN"
   ]
  },
  {
   "cell_type": "markdown",
   "metadata": {
    "colab_type": "text",
    "id": "vfrFQACEnc6i"
   },
   "source": [
    "### Compiling the CNN"
   ]
  },
  {
   "cell_type": "code",
   "execution_count": 36,
   "metadata": {
    "colab": {},
    "colab_type": "code",
    "id": "vjC4rJDj-tE5"
   },
   "outputs": [],
   "source": [
    "cnn.compile(optimizer='adam', loss = 'binary_crossentropy', metrics = ['accuracy'])"
   ]
  },
  {
   "cell_type": "markdown",
   "metadata": {
    "colab_type": "text",
    "id": "ehS-v3MIpX2h"
   },
   "source": [
    "### Training the CNN on the Training set and evaluating it on the Test set"
   ]
  },
  {
   "cell_type": "code",
   "execution_count": null,
   "metadata": {
    "colab": {},
    "colab_type": "code",
    "id": "nOp0t1sm-uMS"
   },
   "outputs": [
    {
     "name": "stdout",
     "output_type": "stream",
     "text": [
      "Epoch 1/25\n",
      "250/250 [==============================] - 89s 354ms/step - loss: 0.6436 - accuracy: 0.6204 - val_loss: 0.6592 - val_accuracy: 0.6085\n",
      "Epoch 2/25\n",
      "250/250 [==============================] - 60s 241ms/step - loss: 0.5683 - accuracy: 0.7060 - val_loss: 0.6018 - val_accuracy: 0.6890\n",
      "Epoch 3/25\n",
      "250/250 [==============================] - 50s 199ms/step - loss: 0.5302 - accuracy: 0.7319 - val_loss: 0.5271 - val_accuracy: 0.7385\n",
      "Epoch 4/25\n",
      "250/250 [==============================] - 55s 220ms/step - loss: 0.5029 - accuracy: 0.7487 - val_loss: 0.5191 - val_accuracy: 0.7480\n",
      "Epoch 5/25\n",
      "250/250 [==============================] - 51s 205ms/step - loss: 0.4820 - accuracy: 0.7696 - val_loss: 0.4909 - val_accuracy: 0.7680\n",
      "Epoch 6/25\n",
      "250/250 [==============================] - 52s 207ms/step - loss: 0.4506 - accuracy: 0.7855 - val_loss: 0.5084 - val_accuracy: 0.7640\n",
      "Epoch 7/25\n",
      "250/250 [==============================] - 56s 225ms/step - loss: 0.4386 - accuracy: 0.7930 - val_loss: 0.4567 - val_accuracy: 0.7920\n",
      "Epoch 8/25\n",
      "250/250 [==============================] - 54s 215ms/step - loss: 0.4322 - accuracy: 0.8018 - val_loss: 0.4752 - val_accuracy: 0.7675\n",
      "Epoch 9/25\n",
      "250/250 [==============================] - 50s 198ms/step - loss: 0.4145 - accuracy: 0.8045 - val_loss: 0.4618 - val_accuracy: 0.7800\n",
      "Epoch 10/25\n",
      "250/250 [==============================] - 54s 215ms/step - loss: 0.4017 - accuracy: 0.8175 - val_loss: 0.4335 - val_accuracy: 0.8035\n",
      "Epoch 11/25\n",
      "250/250 [==============================] - 54s 215ms/step - loss: 0.3865 - accuracy: 0.8242 - val_loss: 0.4506 - val_accuracy: 0.8065\n",
      "Epoch 12/25\n",
      "250/250 [==============================] - 54s 214ms/step - loss: 0.3726 - accuracy: 0.8311 - val_loss: 0.4648 - val_accuracy: 0.7880\n",
      "Epoch 13/25\n",
      "250/250 [==============================] - 54s 218ms/step - loss: 0.3528 - accuracy: 0.8428 - val_loss: 0.4535 - val_accuracy: 0.7925\n",
      "Epoch 14/25\n",
      "250/250 [==============================] - 56s 224ms/step - loss: 0.3425 - accuracy: 0.8480 - val_loss: 0.5894 - val_accuracy: 0.7580\n",
      "Epoch 15/25\n",
      " 37/250 [===>..........................] - ETA: 38s - loss: 0.3235 - accuracy: 0.8522- ETA: 40s - loss: 0.3178 - accurac"
     ]
    }
   ],
   "source": [
    "cnn.fit(x = training_set, validation_data=test_set, epochs = 25)"
   ]
  },
  {
   "cell_type": "code",
   "execution_count": null,
   "metadata": {},
   "outputs": [],
   "source": [
    "# 32*250 = 8000 images, the batch-size is 32, and we have 8000 images, we have 250 steps in each epoch.\n",
    "# the number of epochs is not related to the batch-size or images number.\n",
    "# accuary - is the accuracy of the training set.\n",
    "# val_accuracy - is the accuracy on the test set. \n",
    "# if we didn't do data augmentation at the beginning we will get something close to 98% or 99% in the test set accuracy\n",
    "# which clearly indicates overfitting, and lower accuracy in the training set. "
   ]
  },
  {
   "cell_type": "markdown",
   "metadata": {
    "colab_type": "text",
    "id": "U3PZasO0006Z"
   },
   "source": [
    "## Part 4 - Making a single prediction"
   ]
  },
  {
   "cell_type": "code",
   "execution_count": null,
   "metadata": {
    "colab": {},
    "colab_type": "code",
    "id": "d0QcUQByA2aq"
   },
   "outputs": [],
   "source": [
    "import numpy as np\n",
    "from keras.preprocessing import image\n",
    "test_image = image.load_img('dataset\\single_prediction\\cat_or_dog_2.jpg', target_size = (64,64))\n",
    "#the predict method expects at it's input a 2D array\n",
    "test_image = image.img_to_array(test_image)\n",
    "# the predict method has to be used as it was used in the TRAINING.\n",
    "# the cnn was trained on batches (not signle image), where batch #1 contained 32 imgs, batch #2 contained 32 imgs.\n",
    "# so we have an extra dimention for the batch.\n"
   ]
  },
  {
   "cell_type": "code",
   "execution_count": 1,
   "metadata": {
    "colab": {},
    "colab_type": "code",
    "id": "fZRjRK9QJKkt"
   },
   "outputs": [
    {
     "ename": "SyntaxError",
     "evalue": "invalid syntax (<ipython-input-1-281534f53205>, line 8)",
     "output_type": "error",
     "traceback": [
      "\u001b[1;36m  File \u001b[1;32m\"<ipython-input-1-281534f53205>\"\u001b[1;36m, line \u001b[1;32m8\u001b[0m\n\u001b[1;33m    if result[0][0] == 1 # the first index 0 represent the only batch we have, and the second 0 represents the only\u001b[0m\n\u001b[1;37m                                                                                                                    ^\u001b[0m\n\u001b[1;31mSyntaxError\u001b[0m\u001b[1;31m:\u001b[0m invalid syntax\n"
     ]
    }
   ],
   "source": [
    "# the expand_dims adds a dimention corresponding to the batch.\n",
    "test_image = np.expand_dims(test_image, axis = 0)\n",
    "result = cnn.predict(test_image)\n",
    "training_set.class_indices  \n",
    "\n",
    "# how do we know for ex if cat corresponds to 1 or 0?\n",
    "training_set.class_indices\n",
    "if result[0][0] == 1 # the first index 0 represent the only batch we have, and the second 0 represents the only \n",
    "                     # image we want to predict. \n",
    "prediction = 'dog'\n",
    "else:\n",
    "  prediction = 'cat'                    \n",
    "print(prediction)"
   ]
  },
  {
   "cell_type": "code",
   "execution_count": null,
   "metadata": {},
   "outputs": [],
   "source": []
  }
 ],
 "metadata": {
  "colab": {
   "collapsed_sections": [],
   "name": "Copy of convolutional_neural_network.ipynb",
   "provenance": []
  },
  "kernelspec": {
   "display_name": "Python 3",
   "language": "python",
   "name": "python3"
  },
  "language_info": {
   "codemirror_mode": {
    "name": "ipython",
    "version": 3
   },
   "file_extension": ".py",
   "mimetype": "text/x-python",
   "name": "python",
   "nbconvert_exporter": "python",
   "pygments_lexer": "ipython3",
   "version": "3.7.4"
  }
 },
 "nbformat": 4,
 "nbformat_minor": 1
}
